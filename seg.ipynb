{
 "cells": [
  {
   "cell_type": "code",
   "execution_count": 1,
   "metadata": {},
   "outputs": [],
   "source": [
    "from torchvision import models\n",
    "from PIL import Image\n",
    "import matplotlib.pyplot as plt\n",
    "import torch\n",
    "import torch.optim as optim\n",
    "import torchvision.transforms as T\n",
    "import numpy as np\n",
    "import matplotlib as plot\n",
    "import os"
   ]
  },
  {
   "cell_type": "code",
   "execution_count": 2,
   "metadata": {},
   "outputs": [
    {
     "name": "stdout",
     "output_type": "stream",
     "text": [
      "64\n"
     ]
    }
   ],
   "source": [
    "label_colors = []\n",
    "for i in range(4):\n",
    "    for j in range(4):\n",
    "        for k in range(4):\n",
    "            label_colors.append((i*64,j*64,k*64))\n",
    "print(len(label_colors))"
   ]
  },
  {
   "cell_type": "code",
   "execution_count": 3,
   "metadata": {},
   "outputs": [],
   "source": [
    "def encode_segmap(image, nc=64):\n",
    "    #from (h,w,3) to (h,w)\n",
    "    label = np.zeros((720,960))\n",
    "    image = image // 64 * 64\n",
    "    for i in range(720):\n",
    "        for j in range(960):\n",
    "            try:\n",
    "                label[i,j] = label_colors.index(tuple(image[i,j,:]))\n",
    "            except:\n",
    "                label[i,j] = 0\n",
    "    return label\n",
    "\n",
    "def decode_segmap(image, nc=64):\n",
    "    #from (h,w) to (h,w,3)\n",
    "    rgb = np.zeros((720,960,3))\n",
    "    for i in range(720):\n",
    "        for j in range(960):\n",
    "            rgb[i,j,:] = label_colors[int(image[i,j])]\n",
    "    return rgb.astype(np.uint8)"
   ]
  },
  {
   "cell_type": "code",
   "execution_count": 4,
   "metadata": {},
   "outputs": [
    {
     "data": {
      "text/plain": [
       "'\\ntarget = \\'SYNTHIA_RAND_CVPR16_extract-100-images/GT/\\'\\nlabel_dir = \\'SYNTHIA_RAND_CVPR16_extract-100-images/label/\\'\\nfor i,photo in enumerate(os.listdir(target)):\\n    path = target + photo\\n    label = np.array(Image.open(path).convert(\"RGB\"))\\n    save_dir = label_dir + photo.split(\\'.\\')[0] + \\'.npy\\'\\n    label = encode_segmap(label)\\n    np.save(save_dir,label)\\n    print(\\'generating and saving label...[%d/%d]\\'%(i+1,len(os.listdir(target))),end=\\'\\r\\')\\n'"
      ]
     },
     "execution_count": 4,
     "metadata": {},
     "output_type": "execute_result"
    }
   ],
   "source": [
    "'''\n",
    "target = 'SYNTHIA_RAND_CVPR16_extract-100-images/GT/'\n",
    "label_dir = 'SYNTHIA_RAND_CVPR16_extract-100-images/label/'\n",
    "for i,photo in enumerate(os.listdir(target)):\n",
    "    path = target + photo\n",
    "    label = np.array(Image.open(path).convert(\"RGB\"))\n",
    "    save_dir = label_dir + photo.split('.')[0] + '.npy'\n",
    "    label = encode_segmap(label)\n",
    "    np.save(save_dir,label)\n",
    "    print('generating and saving label...[%d/%d]'%(i+1,len(os.listdir(target))),end='\\r')\n",
    "'''"
   ]
  },
  {
   "cell_type": "code",
   "execution_count": 5,
   "metadata": {},
   "outputs": [
    {
     "name": "stdout",
     "output_type": "stream",
     "text": [
      "torch.Size([3, 720, 960]) torch.Size([1, 720, 960])\n"
     ]
    }
   ],
   "source": [
    "class DealDataset(torch.utils.data.Dataset):\n",
    "    def __init__(self,images_path,labels_path,Transform = None,Transform_label = None):\n",
    "        self.images_path_list = os.listdir(images_path)\n",
    "        self.labels_path_list = [x.split('.')[0]+'.npy' for x in os.listdir(images_path)]\n",
    "        self.transform = Transform\n",
    "        self.transform_label = Transform_label\n",
    "    def __getitem__(self,index):\n",
    "        image_path = self.images_path_list[index]\n",
    "        label_path = self.labels_path_list[index]\n",
    "        \n",
    "        image = Image.open(images_path + image_path).convert(\"RGB\")\n",
    "        label = np.load(labels_path + label_path)\n",
    "        \n",
    "        if self.transform is not None:\n",
    "            image = self.transform(image)\n",
    "            \n",
    "        if self.transform_label is not None:\n",
    "            label = self.transform_label(label)\n",
    "        \n",
    "        return image,label\n",
    "        \n",
    "    def __len__(self):\n",
    "        return len(self.images_path_list)\n",
    "\n",
    "images_path = 'SYNTHIA_RAND_CVPR16_extract-100-images/IMG/'\n",
    "labels_path = 'SYNTHIA_RAND_CVPR16_extract-100-images/label/'\n",
    "trf = T.Compose([T.ToTensor(), \n",
    "                 T.Normalize(mean = [0.485, 0.456, 0.406], \n",
    "                             std = [0.229, 0.224, 0.225])])\n",
    "dataset = DealDataset(images_path,labels_path,Transform = T.Compose([T.ToTensor(),T.Normalize(mean = [0.485, 0.456, 0.406], std = [0.229, 0.224, 0.225])]),Transform_label = T.ToTensor())\n",
    "print(dataset[0][0].shape,dataset[0][1].shape)"
   ]
  },
  {
   "cell_type": "code",
   "execution_count": 8,
   "metadata": {},
   "outputs": [],
   "source": [
    "model_64 = models.segmentation.fcn_resnet101(pretrained = False,num_classes=64)#64类模型\n",
    "loss_fn  = torch.nn.CrossEntropyLoss()\n",
    "\n",
    "use_cuda = True\n",
    "if use_cuda:\n",
    "    model_64.cuda()\n",
    "    loss_fn.cuda()\n",
    "\n",
    "save_list = []\n",
    "for param_tensor in model_64.state_dict():\n",
    "    if 'classifier' not in param_tensor and 'aux_classifier' not in param_tensor:\n",
    "        save_list.append(param_tensor)#去掉不匹配的classifier和aux_classifier参数，保留共有的参数\n",
    "model_21 = models.segmentation.fcn_resnet101(pretrained = True,num_classes=21)#载入21类模型\n",
    "\n",
    "#把模型参数移植到64类之中\n",
    "\n",
    "if use_cuda:\n",
    "    load_state = {k: v.cuda() for k, v in model_21.state_dict().items() if k in save_list}\n",
    "else:\n",
    "    load_state = {k: v for k, v in model_21.state_dict().items() if k in save_list}\n",
    "\n",
    "model_state = model_64.state_dict()\n",
    "model_state.update(load_state)\n",
    "model_64.load_state_dict(model_state)\n",
    "\n",
    "#固定载入的参数\n",
    "for name, value in model_64.named_parameters():\n",
    "    if name in save_list:\n",
    "        value.requires_grad = False"
   ]
  },
  {
   "cell_type": "code",
   "execution_count": 11,
   "metadata": {},
   "outputs": [
    {
     "name": "stdout",
     "output_type": "stream",
     "text": [
      "Train Loss: 4.240561\tEPOCH:[1/10]\tSTEP:[1/100]\n",
      "Train Loss: 2.596343\tEPOCH:[1/10]\tSTEP:[2/100]\n",
      "Train Loss: 2.502120\tEPOCH:[1/10]\tSTEP:[3/100]\n",
      "Train Loss: 2.331738\tEPOCH:[1/10]\tSTEP:[4/100]\n",
      "Train Loss: 1.918356\tEPOCH:[1/10]\tSTEP:[5/100]\n",
      "Train Loss: 1.713203\tEPOCH:[1/10]\tSTEP:[6/100]\n",
      "Train Loss: 1.581247\tEPOCH:[1/10]\tSTEP:[7/100]\n",
      "Train Loss: 1.532525\tEPOCH:[1/10]\tSTEP:[8/100]\n",
      "Train Loss: 1.462321\tEPOCH:[1/10]\tSTEP:[9/100]\n",
      "Train Loss: 1.188675\tEPOCH:[1/10]\tSTEP:[10/100]\n",
      "Train Loss: 2.188315\tEPOCH:[1/10]\tSTEP:[11/100]\n",
      "Train Loss: 1.689978\tEPOCH:[1/10]\tSTEP:[12/100]\n",
      "Train Loss: 1.993460\tEPOCH:[1/10]\tSTEP:[13/100]\n",
      "Train Loss: 1.541075\tEPOCH:[1/10]\tSTEP:[14/100]\n",
      "Train Loss: 1.433111\tEPOCH:[1/10]\tSTEP:[15/100]\n",
      "Train Loss: 1.562332\tEPOCH:[1/10]\tSTEP:[16/100]\n",
      "Train Loss: 1.215564\tEPOCH:[1/10]\tSTEP:[17/100]\n",
      "Train Loss: 1.096773\tEPOCH:[1/10]\tSTEP:[18/100]\n",
      "Train Loss: 1.014257\tEPOCH:[1/10]\tSTEP:[19/100]\n",
      "Train Loss: 1.021472\tEPOCH:[1/10]\tSTEP:[20/100]\n",
      "Train Loss: 1.081121\tEPOCH:[1/10]\tSTEP:[21/100]\n"
     ]
    },
    {
     "ename": "KeyboardInterrupt",
     "evalue": "",
     "output_type": "error",
     "traceback": [
      "\u001b[1;31m---------------------------------------------------------------------------\u001b[0m",
      "\u001b[1;31mKeyboardInterrupt\u001b[0m                         Traceback (most recent call last)",
      "\u001b[1;32m<ipython-input-11-0126b84507dc>\u001b[0m in \u001b[0;36m<module>\u001b[1;34m\u001b[0m\n\u001b[0;32m      6\u001b[0m     \u001b[1;32mfor\u001b[0m \u001b[0mi\u001b[0m \u001b[1;32min\u001b[0m \u001b[0mrange\u001b[0m\u001b[1;33m(\u001b[0m\u001b[0mlen\u001b[0m\u001b[1;33m(\u001b[0m\u001b[0mdataset\u001b[0m\u001b[1;33m)\u001b[0m\u001b[1;33m)\u001b[0m\u001b[1;33m:\u001b[0m\u001b[1;33m\u001b[0m\u001b[1;33m\u001b[0m\u001b[0m\n\u001b[0;32m      7\u001b[0m         \u001b[0mout\u001b[0m \u001b[1;33m=\u001b[0m \u001b[1;33m(\u001b[0m\u001b[0mmodel_64\u001b[0m\u001b[1;33m(\u001b[0m\u001b[0mdataset\u001b[0m\u001b[1;33m[\u001b[0m\u001b[0mi\u001b[0m\u001b[1;33m]\u001b[0m\u001b[1;33m[\u001b[0m\u001b[1;36m0\u001b[0m\u001b[1;33m]\u001b[0m\u001b[1;33m.\u001b[0m\u001b[0mcuda\u001b[0m\u001b[1;33m(\u001b[0m\u001b[1;33m)\u001b[0m\u001b[1;33m.\u001b[0m\u001b[0munsqueeze\u001b[0m\u001b[1;33m(\u001b[0m\u001b[0mdim\u001b[0m\u001b[1;33m=\u001b[0m\u001b[1;36m0\u001b[0m\u001b[1;33m)\u001b[0m\u001b[1;33m)\u001b[0m\u001b[1;33m[\u001b[0m\u001b[1;34m'out'\u001b[0m\u001b[1;33m]\u001b[0m\u001b[1;33m)\u001b[0m\u001b[1;33m\u001b[0m\u001b[1;33m\u001b[0m\u001b[0m\n\u001b[1;32m----> 8\u001b[1;33m         \u001b[0mtarget\u001b[0m \u001b[1;33m=\u001b[0m \u001b[0mdataset\u001b[0m\u001b[1;33m[\u001b[0m\u001b[0mi\u001b[0m\u001b[1;33m]\u001b[0m\u001b[1;33m[\u001b[0m\u001b[1;36m1\u001b[0m\u001b[1;33m]\u001b[0m\u001b[1;33m.\u001b[0m\u001b[0mcuda\u001b[0m\u001b[1;33m(\u001b[0m\u001b[1;33m)\u001b[0m\u001b[1;33m.\u001b[0m\u001b[0mlong\u001b[0m\u001b[1;33m(\u001b[0m\u001b[1;33m)\u001b[0m\u001b[1;33m\u001b[0m\u001b[1;33m\u001b[0m\u001b[0m\n\u001b[0m\u001b[0;32m      9\u001b[0m         \u001b[0mloss\u001b[0m \u001b[1;33m=\u001b[0m \u001b[0mloss_fn\u001b[0m\u001b[1;33m(\u001b[0m\u001b[0mout\u001b[0m\u001b[1;33m,\u001b[0m\u001b[0mtarget\u001b[0m\u001b[1;33m)\u001b[0m\u001b[1;33m\u001b[0m\u001b[1;33m\u001b[0m\u001b[0m\n\u001b[0;32m     10\u001b[0m         \u001b[0moptimizer\u001b[0m\u001b[1;33m.\u001b[0m\u001b[0mzero_grad\u001b[0m\u001b[1;33m(\u001b[0m\u001b[1;33m)\u001b[0m\u001b[1;33m\u001b[0m\u001b[1;33m\u001b[0m\u001b[0m\n",
      "\u001b[1;31mKeyboardInterrupt\u001b[0m: "
     ]
    }
   ],
   "source": [
    "model_64.train()\n",
    "optimizer = optim.Adam(model_64.parameters(), lr=0.001)\n",
    "EPOCH = 10\n",
    "#训练没有固定的参数\n",
    "for epoch in range(EPOCH):\n",
    "    for i in range(len(dataset)):\n",
    "        if use_cuda:\n",
    "            out = (model_64(dataset[i][0].cuda().unsqueeze(dim=0))['out'])\n",
    "            target = dataset[i][1].cuda().long()\n",
    "        else:\n",
    "            out = (model_64(dataset[i][0].unsqueeze(dim=0))['out'])\n",
    "            target = dataset[i][1].long()\n",
    "        loss = loss_fn(out,target)\n",
    "        optimizer.zero_grad()\n",
    "        loss.backward()\n",
    "        optimizer.step()\n",
    "        print('Train Loss: %.6f\\tEPOCH:[%d/%d]\\tSTEP:[%d/%d]'%(loss.data.item(),epoch+1,EPOCH,i+1,len(dataset)))"
   ]
  },
  {
   "cell_type": "code",
   "execution_count": 9,
   "metadata": {},
   "outputs": [],
   "source": [
    "#保存模型\n",
    "torch.save(model_64.state_dict(), 'ckpt.pth')"
   ]
  },
  {
   "cell_type": "code",
   "execution_count": 21,
   "metadata": {},
   "outputs": [
    {
     "data": {
      "text/plain": [
       "torch.Size([1, 64, 720, 960])"
      ]
     },
     "execution_count": 21,
     "metadata": {},
     "output_type": "execute_result"
    }
   ],
   "source": [
    "#模型推理\n",
    "checkpoint = torch.load('ckpt.pth')\n",
    "model_64.load_state_dict(checkpoint)\n",
    "model_64.eval()\n",
    "out = (model_64(dataset[0][0].unsqueeze(dim=0))['out'])\n",
    "out.shape"
   ]
  },
  {
   "cell_type": "code",
   "execution_count": 22,
   "metadata": {},
   "outputs": [],
   "source": [
    "#展示函数\n",
    "def display(x):\n",
    "    if len(x.shape) == 4:\n",
    "        x = torch.argmax(x,dim=1)\n",
    "    if len(x.shape) == 3:\n",
    "        img = decode_segmap(x.squeeze().numpy())\n",
    "    else:\n",
    "        img = decode_segmap(x.numpy())\n",
    "    plt.imshow(img)\n",
    "    plt.show()"
   ]
  },
  {
   "cell_type": "code",
   "execution_count": 23,
   "metadata": {},
   "outputs": [
    {
     "data": {
      "image/png": "[encoded data removed]",
      "text/plain": [
       "<Figure size 432x288 with 1 Axes>"
      ]
     },
     "metadata": {
      "needs_background": "light"
     },
     "output_type": "display_data"
    }
   ],
   "source": [
    "display(out)\n",
    "#预测结果"
   ]
  },
  {
   "cell_type": "code",
   "execution_count": 24,
   "metadata": {},
   "outputs": [
    {
     "data": {
      "image/png": "[encoded data removed]",
      "text/plain": [
       "<Figure size 432x288 with 1 Axes>"
      ]
     },
     "metadata": {
      "needs_background": "light"
     },
     "output_type": "display_data"
    }
   ],
   "source": [
    "display(dataset[0][1])\n",
    "#真实结果"
   ]
  },
  {
   "cell_type": "code",
   "execution_count": 32,
   "metadata": {},
   "outputs": [
    {
     "name": "stdout",
     "output_type": "stream",
     "text": [
      "confusion_matrix:/100...\n",
      " [[224601      0      0 ...      0   1491      0]\n",
      " [  3462      0      0 ...      0     34      0]\n",
      " [  5528      0      0 ...      0     94      0]\n",
      " ...\n",
      " [     0      0      0 ...      0      0      0]\n",
      " [  4383      0      0 ...      0 412044      0]\n",
      " [     0      0      0 ...      0      0      0]]\n"
     ]
    }
   ],
   "source": [
    "#metric: confusion matrix and f1-score\n",
    "nb_classes = 64\n",
    "confusion_matrix = torch.zeros(nb_classes, nb_classes)\n",
    "with torch.no_grad():\n",
    "    for i in range(len(dataset)):\n",
    "        out = (model_64(dataset[i][0].unsqueeze(dim=0))['out'])\n",
    "        pred = torch.argmax(out, 1)\n",
    "        target = dataset[i][1]\n",
    "        for t, p in zip(target.view(-1), pred.view(-1)):\n",
    "            confusion_matrix[t.long(), p.long()] += 1\n",
    "        print('processing NO.%d/%d...'%(i+1,len(dataset)),end='\\r')\n",
    "print('confusion_matrix:\\n',confusion_matrix.numpy().astype(int))"
   ]
  },
  {
   "cell_type": "code",
   "execution_count": 33,
   "metadata": {},
   "outputs": [
    {
     "name": "stdout",
     "output_type": "stream",
     "text": [
      "precision:\n",
      " [7.1081442e-01 0.0000000e+00 0.0000000e+00 8.1663042e-01 0.0000000e+00\n",
      " 0.0000000e+00 0.0000000e+00 4.9799275e-02 7.1826249e-01 0.0000000e+00\n",
      " 0.0000000e+00 6.9589281e-01           nan           nan           nan\n",
      "           nan 1.5673631e-04 0.0000000e+00 7.7213579e-01           nan\n",
      " 5.3097147e-01 0.0000000e+00 0.0000000e+00           nan 0.0000000e+00\n",
      " 0.0000000e+00 0.0000000e+00           nan           nan           nan\n",
      "           nan           nan 7.6970524e-01 0.0000000e+00           nan\n",
      "           nan 5.8169191e-04 0.0000000e+00 9.7893721e-01           nan\n",
      " 7.0968211e-01 5.5381388e-04 5.7784492e-01           nan           nan\n",
      "           nan           nan           nan           nan           nan\n",
      "           nan           nan           nan           nan           nan\n",
      "           nan           nan           nan 6.5808445e-01           nan\n",
      "           nan           nan 6.5468758e-01           nan]\n",
      "recall:\n",
      " [0.37254122        nan 0.         0.9298028         nan        nan\n",
      "        nan 0.29335585 0.7877123         nan        nan 0.5859992\n",
      "        nan        nan        nan        nan 0.13207547        nan\n",
      " 0.84270066        nan 0.677625   0.                nan        nan\n",
      "        nan        nan        nan        nan        nan        nan\n",
      "        nan        nan 0.9605993         nan        nan        nan\n",
      " 0.18624642 0.         0.65891266        nan 0.79708767 0.19310345\n",
      " 0.9138629         nan        nan        nan        nan        nan\n",
      "        nan        nan        nan        nan        nan        nan\n",
      "        nan        nan        nan        nan 0.86399454        nan\n",
      "        nan        nan 0.83602816        nan]\n",
      "f1-score:\n",
      " [7.1081442e-01           nan           nan 8.1663042e-01           nan\n",
      "           nan           nan 4.9799271e-02 7.1826249e-01           nan\n",
      "           nan 6.9589281e-01           nan           nan           nan\n",
      "           nan 1.5673631e-04           nan 7.7213579e-01           nan\n",
      " 5.3097147e-01           nan           nan           nan           nan\n",
      "           nan           nan           nan           nan           nan\n",
      "           nan           nan 7.6970524e-01           nan           nan\n",
      "           nan 5.8169191e-04           nan 9.7893721e-01           nan\n",
      " 7.0968211e-01 5.5381388e-04 5.7784492e-01           nan           nan\n",
      "           nan           nan           nan           nan           nan\n",
      "           nan           nan           nan           nan           nan\n",
      "           nan           nan           nan 6.5808445e-01           nan\n",
      "           nan           nan 6.5468758e-01           nan]\n"
     ]
    }
   ],
   "source": [
    "precision = confusion_matrix.diag()/confusion_matrix.sum(1)\n",
    "print('precision:\\n',(confusion_matrix.diag()/confusion_matrix.sum(1)).numpy())\n",
    "\n",
    "recall = confusion_matrix.diag()/confusion_matrix.sum(1)\n",
    "print('recall:\\n',(confusion_matrix.diag()/confusion_matrix.sum(0)).numpy())\n",
    "\n",
    "f1 = 2*precision*recall/(precision+recall)\n",
    "print('f1-score:\\n',f1.numpy())"
   ]
  }
 ],
 "metadata": {
  "kernelspec": {
   "display_name": "Python 3",
   "language": "python",
   "name": "python3"
  },
  "language_info": {
   "codemirror_mode": {
    "name": "ipython",
    "version": 3
   },
   "file_extension": ".py",
   "mimetype": "text/x-python",
   "name": "python",
   "nbconvert_exporter": "python",
   "pygments_lexer": "ipython3",
   "version": "3.7.3"
  }
 },
 "nbformat": 4,
 "nbformat_minor": 2
}
